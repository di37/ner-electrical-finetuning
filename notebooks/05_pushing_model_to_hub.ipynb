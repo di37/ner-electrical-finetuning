{
 "cells": [
  {
   "cell_type": "markdown",
   "metadata": {},
   "source": [
    "# Pushing Model to the Hub"
   ]
  },
  {
   "cell_type": "markdown",
   "metadata": {},
   "source": [
    "This notebook demonstrates how to push locally trained NER models to the Hugging Face Hub.\n",
    "\n",
    "It includes:\n",
    "- Loading pre-trained models and metadata.\n",
    "- Creating repositories on the Hugging Face Hub.\n",
    "- Uploading models and model cards with relevant evaluation metrics."
   ]
  },
  {
   "cell_type": "markdown",
   "metadata": {},
   "source": [
    "### Changing to the main directory"
   ]
  },
  {
   "cell_type": "code",
   "execution_count": null,
   "metadata": {},
   "outputs": [],
   "source": [
    "%cd .."
   ]
  },
  {
   "cell_type": "markdown",
   "metadata": {},
   "source": [
    "### Importing Necessary Libraries"
   ]
  },
  {
   "cell_type": "code",
   "execution_count": 2,
   "metadata": {},
   "outputs": [],
   "source": [
    "import os\n",
    "from utilities import LOCAL_MODELS, DATASET_ID\n",
    "from utilities import push_model_to_hub\n",
    "from dotenv import load_dotenv\n",
    "import pandas as pd \n",
    "\n",
    "_ = load_dotenv()\n",
    "\n",
    "# Your Hugging Face token\n",
    "token = os.getenv(\"HF_TOKEN\")  # Replace with your actual token"
   ]
  },
  {
   "cell_type": "code",
   "execution_count": 3,
   "metadata": {},
   "outputs": [
    {
     "data": {
      "text/plain": [
       "{'google-bert/bert-base-uncased': 'electrical-ner-bert-base',\n",
       " 'distilbert/distilbert-base-uncased': 'electrical-ner-distilbert-base',\n",
       " 'google-bert/bert-large-uncased': 'electrical-ner-bert-large',\n",
       " 'answerdotai/ModernBERT-base': 'electrical-ner-modernbert-base',\n",
       " 'answerdotai/ModernBERT-large': 'electrical-ner-modernbert-large'}"
      ]
     },
     "execution_count": 3,
     "metadata": {},
     "output_type": "execute_result"
    }
   ],
   "source": [
    "LOCAL_MODELS"
   ]
  },
  {
   "cell_type": "markdown",
   "metadata": {},
   "source": [
    "### Pushing Models to the Hub"
   ]
  },
  {
   "cell_type": "code",
   "execution_count": null,
   "metadata": {},
   "outputs": [
    {
     "name": "stdout",
     "output_type": "stream",
     "text": [
      "distilbert/distilbert-base-uncased electrical-ner-distilbert-base\n"
     ]
    },
    {
     "name": "stderr",
     "output_type": "stream",
     "text": [
      "Note: Environment variable`HF_TOKEN` is set and is the current active token independently from the token you've just configured.\n"
     ]
    },
    {
     "name": "stdout",
     "output_type": "stream",
     "text": [
      "Using existing repository: disham993/electrical-ner-distilbert-base\n",
      "Model card pushed successfully\n",
      "Pushing model files from ./models/electrical-ner-distilbert-base\n"
     ]
    },
    {
     "data": {
      "application/vnd.jupyter.widget-view+json": {
       "model_id": "cc8ab30501ff499882847c438b959a3c",
       "version_major": 2,
       "version_minor": 0
      },
      "text/plain": [
       "model.safetensors:   0%|          | 0.00/266M [00:00<?, ?B/s]"
      ]
     },
     "metadata": {},
     "output_type": "display_data"
    },
    {
     "name": "stdout",
     "output_type": "stream",
     "text": [
      "Model files pushed successfully\n"
     ]
    }
   ],
   "source": [
    "try:\n",
    "    # Create and clone repository with model card\n",
    "    for base_model, local_model in LOCAL_MODELS.items():\n",
    "        print(base_model, local_model)\n",
    "        repo = push_model_to_hub(\n",
    "            repo_name=f\"disham993/{local_model}\",\n",
    "            token=token,\n",
    "            task_type=\"token-classification\",\n",
    "            base_model=base_model,\n",
    "            dataset_name=DATASET_ID,\n",
    "            model_dir=f\"./models/{local_model}\",  # Directory containing your model files\n",
    "            private=False,\n",
    "            model_card_kwargs={\n",
    "                \"language\": \"en\",\n",
    "                \"dataset\": DATASET_ID,\n",
    "                \"metrics\": pd.read_csv(f'logs/{local_model}-results.csv').loc[0].to_dict()\n",
    "            }\n",
    "        )\n",
    "except Exception as e:\n",
    "    print(f\"Failed to create/clone repository: {str(e)}\")"
   ]
  }
 ],
 "metadata": {
  "kernelspec": {
   "display_name": "image_classification",
   "language": "python",
   "name": "python3"
  },
  "language_info": {
   "codemirror_mode": {
    "name": "ipython",
    "version": 3
   },
   "file_extension": ".py",
   "mimetype": "text/x-python",
   "name": "python",
   "nbconvert_exporter": "python",
   "pygments_lexer": "ipython3",
   "version": "3.12.7"
  }
 },
 "nbformat": 4,
 "nbformat_minor": 2
}
